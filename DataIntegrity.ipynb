{
 "cells": [
  {
   "cell_type": "code",
   "execution_count": 1,
   "id": "df64f3c6",
   "metadata": {},
   "outputs": [],
   "source": [
    "## Bruno Vieira Ribeiro - 2021"
   ]
  },
  {
   "cell_type": "code",
   "execution_count": 1,
   "id": "fd830f3d",
   "metadata": {},
   "outputs": [],
   "source": [
    "%config Completer.use_jedi = False        # For autocomplete to work!"
   ]
  },
  {
   "cell_type": "markdown",
   "id": "32a72e42",
   "metadata": {},
   "source": [
    "<H1 align=\"center\">  🧸 Project: Toys 🧸 </H1>\n",
    "\n",
    "---\n",
    "\n",
    "# Data integrity"
   ]
  },
  {
   "cell_type": "code",
   "execution_count": 2,
   "id": "601d5c88",
   "metadata": {},
   "outputs": [],
   "source": [
    "import pandas as pd\n",
    "import sqlite3 as sql"
   ]
  },
  {
   "cell_type": "markdown",
   "id": "fafd9d0c",
   "metadata": {},
   "source": [
    "# Connecting to the database"
   ]
  },
  {
   "cell_type": "code",
   "execution_count": 3,
   "id": "9338ecab",
   "metadata": {},
   "outputs": [],
   "source": [
    "con = sql.connect(\"kohls_toys.db\")\n",
    "cur = con.cursor()"
   ]
  },
  {
   "cell_type": "markdown",
   "id": "30123cf4",
   "metadata": {},
   "source": [
    "## Listing tables"
   ]
  },
  {
   "cell_type": "code",
   "execution_count": 4,
   "id": "8ad51da9",
   "metadata": {},
   "outputs": [
    {
     "name": "stdout",
     "output_type": "stream",
     "text": [
      "[('girlstoys',), ('boystoys',)]\n",
      "==================================================\n",
      "Total of 2 tables in database.\n"
     ]
    }
   ],
   "source": [
    "# Listing all tables\n",
    "cur.execute(\"SELECT name FROM sqlite_master WHERE type='table';\")\n",
    "tables = cur.fetchall()\n",
    "print(tables)\n",
    "print(50*'=')\n",
    "print(f'Total of {len(tables)} tables in database.')"
   ]
  },
  {
   "cell_type": "markdown",
   "id": "94c2a6eb",
   "metadata": {},
   "source": [
    "Number of rows (different toys) in each table:"
   ]
  },
  {
   "cell_type": "code",
   "execution_count": 5,
   "id": "ecb06f58",
   "metadata": {},
   "outputs": [
    {
     "name": "stdout",
     "output_type": "stream",
     "text": [
      "Number of girls toys: 4475\n"
     ]
    }
   ],
   "source": [
    "query = \"\"\"\n",
    "SELECT\n",
    "    Count(*)\n",
    "FROM\n",
    "    girlstoys;\n",
    "\"\"\"\n",
    "cur.execute(query)\n",
    "print(f'Number of girls toys: {cur.fetchall()[0][0]}')"
   ]
  },
  {
   "cell_type": "code",
   "execution_count": 6,
   "id": "3ffa78fa",
   "metadata": {},
   "outputs": [
    {
     "name": "stdout",
     "output_type": "stream",
     "text": [
      "Number of boys toys: 4210\n"
     ]
    }
   ],
   "source": [
    "query = \"\"\"\n",
    "SELECT\n",
    "    Count(*)\n",
    "FROM\n",
    "    boystoys;\n",
    "\"\"\"\n",
    "cur.execute(query)\n",
    "print(f'Number of boys toys: {cur.fetchall()[0][0]}')"
   ]
  },
  {
   "cell_type": "markdown",
   "id": "68c00c94",
   "metadata": {},
   "source": [
    "# Checking for duplicates\n",
    "\n",
    "## Girls toys\n",
    "\n",
    "Before doing any analysis we can start by checking if there are duplicate toy entries in our tables. We can do this with a `GROUP BY` statement filtering all entries `HAVING` a `COUNT` greater than 1:"
   ]
  },
  {
   "cell_type": "code",
   "execution_count": 7,
   "id": "ab560dd0",
   "metadata": {},
   "outputs": [
    {
     "data": {
      "text/html": [
       "<div>\n",
       "<style scoped>\n",
       "    .dataframe tbody tr th:only-of-type {\n",
       "        vertical-align: middle;\n",
       "    }\n",
       "\n",
       "    .dataframe tbody tr th {\n",
       "        vertical-align: top;\n",
       "    }\n",
       "\n",
       "    .dataframe thead th {\n",
       "        text-align: right;\n",
       "    }\n",
       "</style>\n",
       "<table border=\"1\" class=\"dataframe\">\n",
       "  <thead>\n",
       "    <tr style=\"text-align: right;\">\n",
       "      <th></th>\n",
       "      <th>name</th>\n",
       "      <th>description</th>\n",
       "      <th>cnt</th>\n",
       "    </tr>\n",
       "  </thead>\n",
       "  <tbody>\n",
       "    <tr>\n",
       "      <th>0</th>\n",
       "      <td>American Girl Little Ladybug Brush</td>\n",
       "      <td>Use this American Girl Little Ladybug Brush to...</td>\n",
       "      <td>2</td>\n",
       "    </tr>\n",
       "    <tr>\n",
       "      <th>1</th>\n",
       "      <td>Barbie® Face Mask Spa Day Playset</td>\n",
       "      <td>Barbie doll knows the way to be one's best is ...</td>\n",
       "      <td>2</td>\n",
       "    </tr>\n",
       "    <tr>\n",
       "      <th>2</th>\n",
       "      <td>Barbie® Slap Bracelet Activity Set</td>\n",
       "      <td>Your little artist will love creating all sort...</td>\n",
       "      <td>2</td>\n",
       "    </tr>\n",
       "    <tr>\n",
       "      <th>3</th>\n",
       "      <td>Barbie® Stroll 'n' Play Pups Doll and Accessories</td>\n",
       "      <td>Animal lovers can help Barbie doll take her pu...</td>\n",
       "      <td>2</td>\n",
       "    </tr>\n",
       "    <tr>\n",
       "      <th>4</th>\n",
       "      <td>Candy Land 65th Anniversary by Winning Moves</td>\n",
       "      <td>Candy Land 65th Anniversary by Winning Moves f...</td>\n",
       "      <td>2</td>\n",
       "    </tr>\n",
       "    <tr>\n",
       "      <th>...</th>\n",
       "      <td>...</td>\n",
       "      <td>...</td>\n",
       "      <td>...</td>\n",
       "    </tr>\n",
       "    <tr>\n",
       "      <th>63</th>\n",
       "      <td>Think Box Build &amp; Create Robotics STEM Set for...</td>\n",
       "      <td>Your little engineer will love learning how to...</td>\n",
       "      <td>2</td>\n",
       "    </tr>\n",
       "    <tr>\n",
       "      <th>64</th>\n",
       "      <td>University Games 3D Crystal Puzzle - Disney's ...</td>\n",
       "      <td>Bust boredom by putting together this Universi...</td>\n",
       "      <td>2</td>\n",
       "    </tr>\n",
       "    <tr>\n",
       "      <th>65</th>\n",
       "      <td>University Games 3D Crystal Puzzle - Dragon 56...</td>\n",
       "      <td>Bust boredom by putting together this Universi...</td>\n",
       "      <td>3</td>\n",
       "    </tr>\n",
       "    <tr>\n",
       "      <th>66</th>\n",
       "      <td>Winfun Balls 'N Shapes Musical Table</td>\n",
       "      <td>Keep your busy bee stimulated and occupied wit...</td>\n",
       "      <td>2</td>\n",
       "    </tr>\n",
       "    <tr>\n",
       "      <th>67</th>\n",
       "      <td>Winfun Roll 'N Pop Walker</td>\n",
       "      <td>With fun sounds and cheerful melodies, this Wi...</td>\n",
       "      <td>2</td>\n",
       "    </tr>\n",
       "  </tbody>\n",
       "</table>\n",
       "<p>68 rows × 3 columns</p>\n",
       "</div>"
      ],
      "text/plain": [
       "                                                 name  \\\n",
       "0                  American Girl Little Ladybug Brush   \n",
       "1                   Barbie® Face Mask Spa Day Playset   \n",
       "2                  Barbie® Slap Bracelet Activity Set   \n",
       "3   Barbie® Stroll 'n' Play Pups Doll and Accessories   \n",
       "4        Candy Land 65th Anniversary by Winning Moves   \n",
       "..                                                ...   \n",
       "63  Think Box Build & Create Robotics STEM Set for...   \n",
       "64  University Games 3D Crystal Puzzle - Disney's ...   \n",
       "65  University Games 3D Crystal Puzzle - Dragon 56...   \n",
       "66               Winfun Balls 'N Shapes Musical Table   \n",
       "67                          Winfun Roll 'N Pop Walker   \n",
       "\n",
       "                                          description  cnt  \n",
       "0   Use this American Girl Little Ladybug Brush to...    2  \n",
       "1   Barbie doll knows the way to be one's best is ...    2  \n",
       "2   Your little artist will love creating all sort...    2  \n",
       "3   Animal lovers can help Barbie doll take her pu...    2  \n",
       "4   Candy Land 65th Anniversary by Winning Moves f...    2  \n",
       "..                                                ...  ...  \n",
       "63  Your little engineer will love learning how to...    2  \n",
       "64  Bust boredom by putting together this Universi...    2  \n",
       "65  Bust boredom by putting together this Universi...    3  \n",
       "66  Keep your busy bee stimulated and occupied wit...    2  \n",
       "67  With fun sounds and cheerful melodies, this Wi...    2  \n",
       "\n",
       "[68 rows x 3 columns]"
      ]
     },
     "execution_count": 7,
     "metadata": {},
     "output_type": "execute_result"
    }
   ],
   "source": [
    "query = \"\"\"\n",
    "SELECT\n",
    "    name,\n",
    "    description,\n",
    "    COUNT(*) AS cnt\n",
    "FROM\n",
    "    girlstoys\n",
    "GROUP BY\n",
    "    name,\n",
    "    description\n",
    "HAVING COUNT(*) > 1;\n",
    "\"\"\"\n",
    "check_df = pd.read_sql(query, con)\n",
    "check_df"
   ]
  },
  {
   "cell_type": "markdown",
   "id": "1677fd33",
   "metadata": {},
   "source": [
    "So, there are 63 duplicate toys in this table. Let's just delete them from the table before doing further analysis. To delete them we can use the `ROWID`. The idea is to keep only the duplicated (sometimes triplicated!) products with the lowest `ROWID`. We do this by deleting all entries where the `ROWID` is **not in** the `MIN` `ROWID` from our grouped data:"
   ]
  },
  {
   "cell_type": "code",
   "execution_count": 8,
   "id": "3822df24",
   "metadata": {},
   "outputs": [
    {
     "data": {
      "text/plain": [
       "<sqlite3.Cursor at 0x7fd87406f340>"
      ]
     },
     "execution_count": 8,
     "metadata": {},
     "output_type": "execute_result"
    }
   ],
   "source": [
    "delete_duplicates = \"\"\"\n",
    "DELETE FROM girlstoys\n",
    "WHERE ROWID NOT IN(\n",
    "    SELECT\n",
    "        MIN(ROWID)\n",
    "    FROM\n",
    "        girlstoys\n",
    "    GROUP BY\n",
    "        name,\n",
    "        description\n",
    "    )\n",
    "\"\"\"\n",
    "cur.execute(delete_duplicates)"
   ]
  },
  {
   "cell_type": "code",
   "execution_count": 9,
   "id": "ee6f49e2",
   "metadata": {},
   "outputs": [],
   "source": [
    "con.commit()"
   ]
  },
  {
   "cell_type": "markdown",
   "id": "8406c3f2",
   "metadata": {},
   "source": [
    "Sanity check: let's check for duplictaes again."
   ]
  },
  {
   "cell_type": "code",
   "execution_count": 10,
   "id": "1cd7dcb2",
   "metadata": {},
   "outputs": [
    {
     "data": {
      "text/html": [
       "<div>\n",
       "<style scoped>\n",
       "    .dataframe tbody tr th:only-of-type {\n",
       "        vertical-align: middle;\n",
       "    }\n",
       "\n",
       "    .dataframe tbody tr th {\n",
       "        vertical-align: top;\n",
       "    }\n",
       "\n",
       "    .dataframe thead th {\n",
       "        text-align: right;\n",
       "    }\n",
       "</style>\n",
       "<table border=\"1\" class=\"dataframe\">\n",
       "  <thead>\n",
       "    <tr style=\"text-align: right;\">\n",
       "      <th></th>\n",
       "      <th>name</th>\n",
       "      <th>description</th>\n",
       "      <th>cnt</th>\n",
       "    </tr>\n",
       "  </thead>\n",
       "  <tbody>\n",
       "  </tbody>\n",
       "</table>\n",
       "</div>"
      ],
      "text/plain": [
       "Empty DataFrame\n",
       "Columns: [name, description, cnt]\n",
       "Index: []"
      ]
     },
     "execution_count": 10,
     "metadata": {},
     "output_type": "execute_result"
    }
   ],
   "source": [
    "query = \"\"\"\n",
    "SELECT\n",
    "    name,\n",
    "    description,\n",
    "    COUNT(*) AS cnt\n",
    "FROM\n",
    "    girlstoys\n",
    "GROUP BY\n",
    "    name,\n",
    "    description\n",
    "HAVING COUNT(*) > 1;\n",
    "\"\"\"\n",
    "check_df = pd.read_sql(query, con)\n",
    "check_df"
   ]
  },
  {
   "cell_type": "markdown",
   "id": "f6a43d54",
   "metadata": {},
   "source": [
    "Great, no duplicates!"
   ]
  },
  {
   "cell_type": "markdown",
   "id": "b4375fb7",
   "metadata": {},
   "source": [
    "## Boys toys\n",
    "\n",
    "We can reuse all the code above to find and delete duplicates from the `boystoys` table."
   ]
  },
  {
   "cell_type": "code",
   "execution_count": 11,
   "id": "818a4c47",
   "metadata": {},
   "outputs": [
    {
     "data": {
      "text/html": [
       "<div>\n",
       "<style scoped>\n",
       "    .dataframe tbody tr th:only-of-type {\n",
       "        vertical-align: middle;\n",
       "    }\n",
       "\n",
       "    .dataframe tbody tr th {\n",
       "        vertical-align: top;\n",
       "    }\n",
       "\n",
       "    .dataframe thead th {\n",
       "        text-align: right;\n",
       "    }\n",
       "</style>\n",
       "<table border=\"1\" class=\"dataframe\">\n",
       "  <thead>\n",
       "    <tr style=\"text-align: right;\">\n",
       "      <th></th>\n",
       "      <th>name</th>\n",
       "      <th>description</th>\n",
       "      <th>cnt</th>\n",
       "    </tr>\n",
       "  </thead>\n",
       "  <tbody>\n",
       "    <tr>\n",
       "      <th>0</th>\n",
       "      <td>Disney Princess Belle and Rapunzel's Royal Sta...</td>\n",
       "      <td>Kick-start fun role-play with this LEGO Disney...</td>\n",
       "      <td>2</td>\n",
       "    </tr>\n",
       "    <tr>\n",
       "      <th>1</th>\n",
       "      <td>Dynacraft PJ Masks 6 Volt Ride On Car</td>\n",
       "      <td>Calling all PJ Masks fans to this Dynacraft ri...</td>\n",
       "      <td>2</td>\n",
       "    </tr>\n",
       "    <tr>\n",
       "      <th>2</th>\n",
       "      <td>Educational Insights Design &amp; Drill My First W...</td>\n",
       "      <td>See what your little builder can create with t...</td>\n",
       "      <td>2</td>\n",
       "    </tr>\n",
       "    <tr>\n",
       "      <th>3</th>\n",
       "      <td>Hey! Play! Zigzag Ride-On Vehicle</td>\n",
       "      <td>Kids will love to wiggle around in this Hey! P...</td>\n",
       "      <td>2</td>\n",
       "    </tr>\n",
       "    <tr>\n",
       "      <th>4</th>\n",
       "      <td>KidKraft Airport Express Train Set &amp; Table</td>\n",
       "      <td>Your little locomotive fan will have a blast p...</td>\n",
       "      <td>2</td>\n",
       "    </tr>\n",
       "    <tr>\n",
       "      <th>5</th>\n",
       "      <td>LEGO City Fire Helicopter Response 60248 Build...</td>\n",
       "      <td>An awesome building set for kids who love acti...</td>\n",
       "      <td>2</td>\n",
       "    </tr>\n",
       "    <tr>\n",
       "      <th>6</th>\n",
       "      <td>Learning Resources Pretend &amp; Play Tool Set</td>\n",
       "      <td>Bring out the carpenter in your little builder...</td>\n",
       "      <td>2</td>\n",
       "    </tr>\n",
       "    <tr>\n",
       "      <th>7</th>\n",
       "      <td>Lil' Rider FX 3-Wheel Bike Ride-On</td>\n",
       "      <td>With a working headlight and sound effects, th...</td>\n",
       "      <td>2</td>\n",
       "    </tr>\n",
       "    <tr>\n",
       "      <th>8</th>\n",
       "      <td>Lionel The Polar Express 50ft Flatcar</td>\n",
       "      <td>Update your Christmas track with this Polar Ex...</td>\n",
       "      <td>2</td>\n",
       "    </tr>\n",
       "    <tr>\n",
       "      <th>9</th>\n",
       "      <td>Melissa &amp; Doug Giant Lifelike Plush Stork</td>\n",
       "      <td>This lifelike plush stork from Melissa &amp; Doug ...</td>\n",
       "      <td>2</td>\n",
       "    </tr>\n",
       "    <tr>\n",
       "      <th>10</th>\n",
       "      <td>Melissa &amp; Doug Polar Bear Plush</td>\n",
       "      <td>Make chilly days more cozy for your little one...</td>\n",
       "      <td>2</td>\n",
       "    </tr>\n",
       "    <tr>\n",
       "      <th>11</th>\n",
       "      <td>Melissa &amp; Doug Store &amp; Serve Frozen Food Set</td>\n",
       "      <td>Add to their imaginative play collection with ...</td>\n",
       "      <td>2</td>\n",
       "    </tr>\n",
       "    <tr>\n",
       "      <th>12</th>\n",
       "      <td>Melissa &amp; Doug Sunny Patch Splash Patrol Sprin...</td>\n",
       "      <td>This Melissa &amp; Doug Sunny Patch Splash Patrol ...</td>\n",
       "      <td>2</td>\n",
       "    </tr>\n",
       "    <tr>\n",
       "      <th>13</th>\n",
       "      <td>Melissa &amp; Doug Undersea Treasure Hunt Set</td>\n",
       "      <td>Scour the pool floor for four coins and two ge...</td>\n",
       "      <td>2</td>\n",
       "    </tr>\n",
       "    <tr>\n",
       "      <th>14</th>\n",
       "      <td>National Geographic Cheetah Plush by Lelly</td>\n",
       "      <td>Let your little ones explore the animal kingdo...</td>\n",
       "      <td>2</td>\n",
       "    </tr>\n",
       "    <tr>\n",
       "      <th>15</th>\n",
       "      <td>National Geographic Lion Plush by Lelly</td>\n",
       "      <td>Let your little ones explore the animal kingdo...</td>\n",
       "      <td>2</td>\n",
       "    </tr>\n",
       "    <tr>\n",
       "      <th>16</th>\n",
       "      <td>National Geographic Red Panda Hand Puppet by L...</td>\n",
       "      <td>Let your little ones explore the animal kingdo...</td>\n",
       "      <td>2</td>\n",
       "    </tr>\n",
       "    <tr>\n",
       "      <th>17</th>\n",
       "      <td>National Geographic Snow Owl Plush by Lelly</td>\n",
       "      <td>Let your little ones explore the animal kingdo...</td>\n",
       "      <td>2</td>\n",
       "    </tr>\n",
       "    <tr>\n",
       "      <th>18</th>\n",
       "      <td>National Geographic Tiger Plush by Lelly</td>\n",
       "      <td>Let your little ones explore the animal kingdo...</td>\n",
       "      <td>2</td>\n",
       "    </tr>\n",
       "    <tr>\n",
       "      <th>19</th>\n",
       "      <td>Not It! Dice Game v1.0</td>\n",
       "      <td>Not It! is a fast-reaction card game that will...</td>\n",
       "      <td>2</td>\n",
       "    </tr>\n",
       "    <tr>\n",
       "      <th>20</th>\n",
       "      <td>Pillow Pets Colorful Pink Unicorn Stuffed Anim...</td>\n",
       "      <td>Your little one will adore snuggling up with t...</td>\n",
       "      <td>2</td>\n",
       "    </tr>\n",
       "    <tr>\n",
       "      <th>21</th>\n",
       "      <td>Pillow Pets Wild Fox- Large</td>\n",
       "      <td>Your child will adore snuggling up with this P...</td>\n",
       "      <td>2</td>\n",
       "    </tr>\n",
       "    <tr>\n",
       "      <th>22</th>\n",
       "      <td>Stanley Jr - Build your Own Birdhouse Kit</td>\n",
       "      <td>Your little one will love creating all sorts o...</td>\n",
       "      <td>2</td>\n",
       "    </tr>\n",
       "    <tr>\n",
       "      <th>23</th>\n",
       "      <td>Sun Comfort Cool Suede Chaise Lounge</td>\n",
       "      <td>With handles and a velvety finish, this Sun Co...</td>\n",
       "      <td>2</td>\n",
       "    </tr>\n",
       "    <tr>\n",
       "      <th>24</th>\n",
       "      <td>University Games 3D Crystal Puzzle - Disney's ...</td>\n",
       "      <td>Bust boredom by putting together this Universi...</td>\n",
       "      <td>2</td>\n",
       "    </tr>\n",
       "    <tr>\n",
       "      <th>25</th>\n",
       "      <td>University Games 3D Crystal Puzzle - Dragon 56...</td>\n",
       "      <td>Bust boredom by putting together this Universi...</td>\n",
       "      <td>3</td>\n",
       "    </tr>\n",
       "  </tbody>\n",
       "</table>\n",
       "</div>"
      ],
      "text/plain": [
       "                                                 name  \\\n",
       "0   Disney Princess Belle and Rapunzel's Royal Sta...   \n",
       "1               Dynacraft PJ Masks 6 Volt Ride On Car   \n",
       "2   Educational Insights Design & Drill My First W...   \n",
       "3                   Hey! Play! Zigzag Ride-On Vehicle   \n",
       "4          KidKraft Airport Express Train Set & Table   \n",
       "5   LEGO City Fire Helicopter Response 60248 Build...   \n",
       "6          Learning Resources Pretend & Play Tool Set   \n",
       "7                  Lil' Rider FX 3-Wheel Bike Ride-On   \n",
       "8               Lionel The Polar Express 50ft Flatcar   \n",
       "9           Melissa & Doug Giant Lifelike Plush Stork   \n",
       "10                    Melissa & Doug Polar Bear Plush   \n",
       "11       Melissa & Doug Store & Serve Frozen Food Set   \n",
       "12  Melissa & Doug Sunny Patch Splash Patrol Sprin...   \n",
       "13          Melissa & Doug Undersea Treasure Hunt Set   \n",
       "14         National Geographic Cheetah Plush by Lelly   \n",
       "15            National Geographic Lion Plush by Lelly   \n",
       "16  National Geographic Red Panda Hand Puppet by L...   \n",
       "17        National Geographic Snow Owl Plush by Lelly   \n",
       "18           National Geographic Tiger Plush by Lelly   \n",
       "19                             Not It! Dice Game v1.0   \n",
       "20  Pillow Pets Colorful Pink Unicorn Stuffed Anim...   \n",
       "21                        Pillow Pets Wild Fox- Large   \n",
       "22          Stanley Jr - Build your Own Birdhouse Kit   \n",
       "23               Sun Comfort Cool Suede Chaise Lounge   \n",
       "24  University Games 3D Crystal Puzzle - Disney's ...   \n",
       "25  University Games 3D Crystal Puzzle - Dragon 56...   \n",
       "\n",
       "                                          description  cnt  \n",
       "0   Kick-start fun role-play with this LEGO Disney...    2  \n",
       "1   Calling all PJ Masks fans to this Dynacraft ri...    2  \n",
       "2   See what your little builder can create with t...    2  \n",
       "3   Kids will love to wiggle around in this Hey! P...    2  \n",
       "4   Your little locomotive fan will have a blast p...    2  \n",
       "5   An awesome building set for kids who love acti...    2  \n",
       "6   Bring out the carpenter in your little builder...    2  \n",
       "7   With a working headlight and sound effects, th...    2  \n",
       "8   Update your Christmas track with this Polar Ex...    2  \n",
       "9   This lifelike plush stork from Melissa & Doug ...    2  \n",
       "10  Make chilly days more cozy for your little one...    2  \n",
       "11  Add to their imaginative play collection with ...    2  \n",
       "12  This Melissa & Doug Sunny Patch Splash Patrol ...    2  \n",
       "13  Scour the pool floor for four coins and two ge...    2  \n",
       "14  Let your little ones explore the animal kingdo...    2  \n",
       "15  Let your little ones explore the animal kingdo...    2  \n",
       "16  Let your little ones explore the animal kingdo...    2  \n",
       "17  Let your little ones explore the animal kingdo...    2  \n",
       "18  Let your little ones explore the animal kingdo...    2  \n",
       "19  Not It! is a fast-reaction card game that will...    2  \n",
       "20  Your little one will adore snuggling up with t...    2  \n",
       "21  Your child will adore snuggling up with this P...    2  \n",
       "22  Your little one will love creating all sorts o...    2  \n",
       "23  With handles and a velvety finish, this Sun Co...    2  \n",
       "24  Bust boredom by putting together this Universi...    2  \n",
       "25  Bust boredom by putting together this Universi...    3  "
      ]
     },
     "execution_count": 11,
     "metadata": {},
     "output_type": "execute_result"
    }
   ],
   "source": [
    "query = \"\"\"\n",
    "SELECT\n",
    "    name,\n",
    "    description,\n",
    "    COUNT(*) AS cnt\n",
    "FROM\n",
    "    boystoys\n",
    "GROUP BY\n",
    "    name,\n",
    "    description\n",
    "HAVING COUNT(*) > 1;\n",
    "\"\"\"\n",
    "check_df = pd.read_sql(query, con)\n",
    "check_df"
   ]
  },
  {
   "cell_type": "markdown",
   "id": "2d34fc8e",
   "metadata": {},
   "source": [
    "There are 26 duplicates here. Let's delete them:"
   ]
  },
  {
   "cell_type": "code",
   "execution_count": 12,
   "id": "0158020e",
   "metadata": {},
   "outputs": [
    {
     "data": {
      "text/plain": [
       "<sqlite3.Cursor at 0x7fd87406f340>"
      ]
     },
     "execution_count": 12,
     "metadata": {},
     "output_type": "execute_result"
    }
   ],
   "source": [
    "delete_duplicates = \"\"\"\n",
    "DELETE FROM boystoys\n",
    "WHERE ROWID NOT IN(\n",
    "    SELECT\n",
    "        MIN(ROWID)\n",
    "    FROM\n",
    "        boystoys\n",
    "    GROUP BY\n",
    "        name,\n",
    "        description\n",
    "    )\n",
    "\"\"\"\n",
    "cur.execute(delete_duplicates)"
   ]
  },
  {
   "cell_type": "code",
   "execution_count": 13,
   "id": "a5127364",
   "metadata": {},
   "outputs": [],
   "source": [
    "con.commit()"
   ]
  },
  {
   "cell_type": "markdown",
   "id": "00d2310b",
   "metadata": {},
   "source": [
    "Sanity check:"
   ]
  },
  {
   "cell_type": "code",
   "execution_count": 14,
   "id": "ec1aa30e",
   "metadata": {},
   "outputs": [
    {
     "data": {
      "text/html": [
       "<div>\n",
       "<style scoped>\n",
       "    .dataframe tbody tr th:only-of-type {\n",
       "        vertical-align: middle;\n",
       "    }\n",
       "\n",
       "    .dataframe tbody tr th {\n",
       "        vertical-align: top;\n",
       "    }\n",
       "\n",
       "    .dataframe thead th {\n",
       "        text-align: right;\n",
       "    }\n",
       "</style>\n",
       "<table border=\"1\" class=\"dataframe\">\n",
       "  <thead>\n",
       "    <tr style=\"text-align: right;\">\n",
       "      <th></th>\n",
       "      <th>name</th>\n",
       "      <th>description</th>\n",
       "      <th>cnt</th>\n",
       "    </tr>\n",
       "  </thead>\n",
       "  <tbody>\n",
       "  </tbody>\n",
       "</table>\n",
       "</div>"
      ],
      "text/plain": [
       "Empty DataFrame\n",
       "Columns: [name, description, cnt]\n",
       "Index: []"
      ]
     },
     "execution_count": 14,
     "metadata": {},
     "output_type": "execute_result"
    }
   ],
   "source": [
    "query = \"\"\"\n",
    "SELECT\n",
    "    name,\n",
    "    description,\n",
    "    COUNT(*) AS cnt\n",
    "FROM\n",
    "    boystoys\n",
    "GROUP BY\n",
    "    name,\n",
    "    description\n",
    "HAVING COUNT(*) > 1;\n",
    "\"\"\"\n",
    "check_df = pd.read_sql(query, con)\n",
    "check_df"
   ]
  },
  {
   "cell_type": "markdown",
   "id": "2a10fb17",
   "metadata": {},
   "source": [
    "Awesome, let's move on!"
   ]
  },
  {
   "cell_type": "markdown",
   "id": "d8554236",
   "metadata": {},
   "source": [
    "## Reading tables to different dataframes"
   ]
  },
  {
   "cell_type": "code",
   "execution_count": 15,
   "id": "e011a2c5",
   "metadata": {},
   "outputs": [],
   "source": [
    "girls_df = pd.read_sql('SELECT * FROM girlstoys', con)"
   ]
  },
  {
   "cell_type": "code",
   "execution_count": 16,
   "id": "a2f16385",
   "metadata": {},
   "outputs": [
    {
     "data": {
      "text/html": [
       "<div>\n",
       "<style scoped>\n",
       "    .dataframe tbody tr th:only-of-type {\n",
       "        vertical-align: middle;\n",
       "    }\n",
       "\n",
       "    .dataframe tbody tr th {\n",
       "        vertical-align: top;\n",
       "    }\n",
       "\n",
       "    .dataframe thead th {\n",
       "        text-align: right;\n",
       "    }\n",
       "</style>\n",
       "<table border=\"1\" class=\"dataframe\">\n",
       "  <thead>\n",
       "    <tr style=\"text-align: right;\">\n",
       "      <th></th>\n",
       "      <th>name</th>\n",
       "      <th>price</th>\n",
       "      <th>url</th>\n",
       "      <th>description</th>\n",
       "    </tr>\n",
       "  </thead>\n",
       "  <tbody>\n",
       "    <tr>\n",
       "      <th>0</th>\n",
       "      <td>Barbie® 3-in-1 DreamCamper Vehicle and Accesso...</td>\n",
       "      <td>89.99</td>\n",
       "      <td>https://www.kohls.com/product/prd-4469399/barb...</td>\n",
       "      <td>When kids hit the open road in the Barbie 3-in...</td>\n",
       "    </tr>\n",
       "    <tr>\n",
       "      <th>1</th>\n",
       "      <td>Barbie® Dreamhouse Playset</td>\n",
       "      <td>199.99</td>\n",
       "      <td>https://www.kohls.com/product/prd-5115185/barb...</td>\n",
       "      <td>Measuring 43 inches tall and 41 inches wide, t...</td>\n",
       "    </tr>\n",
       "    <tr>\n",
       "      <th>2</th>\n",
       "      <td>Step2 Modern Cook Play Kitchen Set</td>\n",
       "      <td>79.99</td>\n",
       "      <td>https://www.kohls.com/product/prd-1819866/step...</td>\n",
       "      <td>Fire up your little one's love for cooking wit...</td>\n",
       "    </tr>\n",
       "    <tr>\n",
       "      <th>3</th>\n",
       "      <td>Barbie® Dreamhouse Playset</td>\n",
       "      <td>199.99</td>\n",
       "      <td>https://www.kohls.com/product/prd-5184120/barb...</td>\n",
       "      <td>The possibilities are endless for your creativ...</td>\n",
       "    </tr>\n",
       "    <tr>\n",
       "      <th>4</th>\n",
       "      <td>Hot Wheels Race Car &amp; Track Play Table by Step2</td>\n",
       "      <td>119.99</td>\n",
       "      <td>https://www.kohls.com/product/prd-3414834/hot-...</td>\n",
       "      <td>Your little speedster will love all the racing...</td>\n",
       "    </tr>\n",
       "  </tbody>\n",
       "</table>\n",
       "</div>"
      ],
      "text/plain": [
       "                                                name   price  \\\n",
       "0  Barbie® 3-in-1 DreamCamper Vehicle and Accesso...   89.99   \n",
       "1                         Barbie® Dreamhouse Playset  199.99   \n",
       "2                 Step2 Modern Cook Play Kitchen Set   79.99   \n",
       "3                         Barbie® Dreamhouse Playset  199.99   \n",
       "4    Hot Wheels Race Car & Track Play Table by Step2  119.99   \n",
       "\n",
       "                                                 url  \\\n",
       "0  https://www.kohls.com/product/prd-4469399/barb...   \n",
       "1  https://www.kohls.com/product/prd-5115185/barb...   \n",
       "2  https://www.kohls.com/product/prd-1819866/step...   \n",
       "3  https://www.kohls.com/product/prd-5184120/barb...   \n",
       "4  https://www.kohls.com/product/prd-3414834/hot-...   \n",
       "\n",
       "                                         description  \n",
       "0  When kids hit the open road in the Barbie 3-in...  \n",
       "1  Measuring 43 inches tall and 41 inches wide, t...  \n",
       "2  Fire up your little one's love for cooking wit...  \n",
       "3  The possibilities are endless for your creativ...  \n",
       "4  Your little speedster will love all the racing...  "
      ]
     },
     "execution_count": 16,
     "metadata": {},
     "output_type": "execute_result"
    }
   ],
   "source": [
    "girls_df.head()"
   ]
  },
  {
   "cell_type": "code",
   "execution_count": 17,
   "id": "46998967",
   "metadata": {},
   "outputs": [],
   "source": [
    "boys_df = pd.read_sql('SELECT * FROM boystoys', con)"
   ]
  },
  {
   "cell_type": "code",
   "execution_count": 18,
   "id": "8aface2f",
   "metadata": {},
   "outputs": [
    {
     "data": {
      "text/html": [
       "<div>\n",
       "<style scoped>\n",
       "    .dataframe tbody tr th:only-of-type {\n",
       "        vertical-align: middle;\n",
       "    }\n",
       "\n",
       "    .dataframe tbody tr th {\n",
       "        vertical-align: top;\n",
       "    }\n",
       "\n",
       "    .dataframe thead th {\n",
       "        text-align: right;\n",
       "    }\n",
       "</style>\n",
       "<table border=\"1\" class=\"dataframe\">\n",
       "  <thead>\n",
       "    <tr style=\"text-align: right;\">\n",
       "      <th></th>\n",
       "      <th>name</th>\n",
       "      <th>price</th>\n",
       "      <th>url</th>\n",
       "      <th>description</th>\n",
       "    </tr>\n",
       "  </thead>\n",
       "  <tbody>\n",
       "    <tr>\n",
       "      <th>0</th>\n",
       "      <td>Step2 Modern Cook Play Kitchen Set</td>\n",
       "      <td>79.99</td>\n",
       "      <td>https://www.kohls.com/product/prd-1819866/step...</td>\n",
       "      <td>Fire up your little one's love for cooking wit...</td>\n",
       "    </tr>\n",
       "    <tr>\n",
       "      <th>1</th>\n",
       "      <td>CoComelon Musical Yellow School Bus Pop Up Tent</td>\n",
       "      <td>29.99</td>\n",
       "      <td>https://www.kohls.com/product/prd-5190142/coco...</td>\n",
       "      <td>Kids will have a great time when they play and...</td>\n",
       "    </tr>\n",
       "    <tr>\n",
       "      <th>2</th>\n",
       "      <td>Hot Wheels Race Car &amp; Track Play Table by Step2</td>\n",
       "      <td>119.99</td>\n",
       "      <td>https://www.kohls.com/product/prd-3414834/hot-...</td>\n",
       "      <td>Your little speedster will love all the racing...</td>\n",
       "    </tr>\n",
       "    <tr>\n",
       "      <th>3</th>\n",
       "      <td>LEGO Harry Potter Hogwarts Chamber of Secrets ...</td>\n",
       "      <td>129.99</td>\n",
       "      <td>https://www.kohls.com/product/prd-5167485/lego...</td>\n",
       "      <td>The large, modular LEGO Harry Potter Hogwarts ...</td>\n",
       "    </tr>\n",
       "    <tr>\n",
       "      <th>4</th>\n",
       "      <td>Hot Wheels City Ultimate Garage</td>\n",
       "      <td>99.99</td>\n",
       "      <td>https://www.kohls.com/product/prd-4429150/hot-...</td>\n",
       "      <td>New for 2020, it's the ULTIMATE challenge in t...</td>\n",
       "    </tr>\n",
       "  </tbody>\n",
       "</table>\n",
       "</div>"
      ],
      "text/plain": [
       "                                                name   price  \\\n",
       "0                 Step2 Modern Cook Play Kitchen Set   79.99   \n",
       "1    CoComelon Musical Yellow School Bus Pop Up Tent   29.99   \n",
       "2    Hot Wheels Race Car & Track Play Table by Step2  119.99   \n",
       "3  LEGO Harry Potter Hogwarts Chamber of Secrets ...  129.99   \n",
       "4                    Hot Wheels City Ultimate Garage   99.99   \n",
       "\n",
       "                                                 url  \\\n",
       "0  https://www.kohls.com/product/prd-1819866/step...   \n",
       "1  https://www.kohls.com/product/prd-5190142/coco...   \n",
       "2  https://www.kohls.com/product/prd-3414834/hot-...   \n",
       "3  https://www.kohls.com/product/prd-5167485/lego...   \n",
       "4  https://www.kohls.com/product/prd-4429150/hot-...   \n",
       "\n",
       "                                         description  \n",
       "0  Fire up your little one's love for cooking wit...  \n",
       "1  Kids will have a great time when they play and...  \n",
       "2  Your little speedster will love all the racing...  \n",
       "3  The large, modular LEGO Harry Potter Hogwarts ...  \n",
       "4  New for 2020, it's the ULTIMATE challenge in t...  "
      ]
     },
     "execution_count": 18,
     "metadata": {},
     "output_type": "execute_result"
    }
   ],
   "source": [
    "boys_df.head()"
   ]
  },
  {
   "cell_type": "markdown",
   "id": "dbfe9481",
   "metadata": {},
   "source": [
    "## Checking integrity of `price` column\n",
    "\n",
    "All entries in our price columns should be float numbers. As a integrity check, we can try to cast them (as they are currently TEXT) as `FLOAT` and see if any rows fail the cast.\n",
    "\n",
    "Let's start with girls toys:"
   ]
  },
  {
   "cell_type": "code",
   "execution_count": 20,
   "id": "38672e0e",
   "metadata": {},
   "outputs": [
    {
     "data": {
      "text/html": [
       "<div>\n",
       "<style scoped>\n",
       "    .dataframe tbody tr th:only-of-type {\n",
       "        vertical-align: middle;\n",
       "    }\n",
       "\n",
       "    .dataframe tbody tr th {\n",
       "        vertical-align: top;\n",
       "    }\n",
       "\n",
       "    .dataframe thead th {\n",
       "        text-align: right;\n",
       "    }\n",
       "</style>\n",
       "<table border=\"1\" class=\"dataframe\">\n",
       "  <thead>\n",
       "    <tr style=\"text-align: right;\">\n",
       "      <th></th>\n",
       "      <th>name</th>\n",
       "      <th>price</th>\n",
       "      <th>url</th>\n",
       "      <th>description</th>\n",
       "    </tr>\n",
       "  </thead>\n",
       "  <tbody>\n",
       "    <tr>\n",
       "      <th>0</th>\n",
       "      <td>KidKraft Teepee Play Tent</td>\n",
       "      <td>99.99 - $112.99</td>\n",
       "      <td>https://www.kohls.com/product/prd-2034244/kidk...</td>\n",
       "      <td>Featuring sturdy bamboo and soft cotton canvas...</td>\n",
       "    </tr>\n",
       "    <tr>\n",
       "      <th>1</th>\n",
       "      <td>Delta Children MySize Double-Sided Storage Easel</td>\n",
       "      <td>62.09 - $69.99</td>\n",
       "      <td>https://www.kohls.com/product/prd-4584636/delt...</td>\n",
       "      <td>This two-sided easel features a chalkboard sid...</td>\n",
       "    </tr>\n",
       "    <tr>\n",
       "      <th>2</th>\n",
       "      <td>Melissa &amp; Doug Diner Collection</td>\n",
       "      <td>18.99 - $248.99</td>\n",
       "      <td>https://www.kohls.com/product/prd-c2228951/mel...</td>\n",
       "      <td>No info</td>\n",
       "    </tr>\n",
       "    <tr>\n",
       "      <th>3</th>\n",
       "      <td>Little Tikes 4-in-1 Sports Edition Trike</td>\n",
       "      <td>112.99 - $133.99</td>\n",
       "      <td>https://www.kohls.com/product/prd-1882301/litt...</td>\n",
       "      <td>Designed with both parent and child in mind, t...</td>\n",
       "    </tr>\n",
       "    <tr>\n",
       "      <th>4</th>\n",
       "      <td>Melissa &amp; Doug Let's Play House Collection</td>\n",
       "      <td>16.99 - $215.99</td>\n",
       "      <td>https://www.kohls.com/product/prd-c1441954/mel...</td>\n",
       "      <td>No info</td>\n",
       "    </tr>\n",
       "  </tbody>\n",
       "</table>\n",
       "</div>"
      ],
      "text/plain": [
       "                                               name             price  \\\n",
       "0                         KidKraft Teepee Play Tent   99.99 - $112.99   \n",
       "1  Delta Children MySize Double-Sided Storage Easel    62.09 - $69.99   \n",
       "2                   Melissa & Doug Diner Collection   18.99 - $248.99   \n",
       "3          Little Tikes 4-in-1 Sports Edition Trike  112.99 - $133.99   \n",
       "4        Melissa & Doug Let's Play House Collection   16.99 - $215.99   \n",
       "\n",
       "                                                 url  \\\n",
       "0  https://www.kohls.com/product/prd-2034244/kidk...   \n",
       "1  https://www.kohls.com/product/prd-4584636/delt...   \n",
       "2  https://www.kohls.com/product/prd-c2228951/mel...   \n",
       "3  https://www.kohls.com/product/prd-1882301/litt...   \n",
       "4  https://www.kohls.com/product/prd-c1441954/mel...   \n",
       "\n",
       "                                         description  \n",
       "0  Featuring sturdy bamboo and soft cotton canvas...  \n",
       "1  This two-sided easel features a chalkboard sid...  \n",
       "2                                            No info  \n",
       "3  Designed with both parent and child in mind, t...  \n",
       "4                                            No info  "
      ]
     },
     "execution_count": 20,
     "metadata": {},
     "output_type": "execute_result"
    }
   ],
   "source": [
    "query = \"\"\"\n",
    "SELECT\n",
    "    *\n",
    "FROM\n",
    "    girlstoys\n",
    "WHERE\n",
    "    CAST(price AS FLOAT) IS NOT price;\n",
    "\"\"\"\n",
    "check_df = pd.read_sql(query, con)\n",
    "check_df"
   ]
  },
  {
   "cell_type": "code",
   "execution_count": 21,
   "id": "16c8e72c",
   "metadata": {},
   "outputs": [
    {
     "data": {
      "text/plain": [
       "5"
      ]
     },
     "execution_count": 21,
     "metadata": {},
     "output_type": "execute_result"
    }
   ],
   "source": [
    "len(check_df)"
   ]
  },
  {
   "cell_type": "markdown",
   "id": "08cc657c",
   "metadata": {},
   "source": [
    "Ok, so there are five rows with a price range instead of a single price in the `girlstoys` table. Let's inspect the `boystoys` table:"
   ]
  },
  {
   "cell_type": "code",
   "execution_count": 22,
   "id": "45e7da67",
   "metadata": {},
   "outputs": [
    {
     "data": {
      "text/html": [
       "<div>\n",
       "<style scoped>\n",
       "    .dataframe tbody tr th:only-of-type {\n",
       "        vertical-align: middle;\n",
       "    }\n",
       "\n",
       "    .dataframe tbody tr th {\n",
       "        vertical-align: top;\n",
       "    }\n",
       "\n",
       "    .dataframe thead th {\n",
       "        text-align: right;\n",
       "    }\n",
       "</style>\n",
       "<table border=\"1\" class=\"dataframe\">\n",
       "  <thead>\n",
       "    <tr style=\"text-align: right;\">\n",
       "      <th></th>\n",
       "      <th>name</th>\n",
       "      <th>price</th>\n",
       "      <th>url</th>\n",
       "      <th>description</th>\n",
       "    </tr>\n",
       "  </thead>\n",
       "  <tbody>\n",
       "    <tr>\n",
       "      <th>0</th>\n",
       "      <td>KidKraft Teepee Play Tent</td>\n",
       "      <td>99.99 - $112.99</td>\n",
       "      <td>https://www.kohls.com/product/prd-2034244/kidk...</td>\n",
       "      <td>Featuring sturdy bamboo and soft cotton canvas...</td>\n",
       "    </tr>\n",
       "    <tr>\n",
       "      <th>1</th>\n",
       "      <td>Delta Children MySize Double-Sided Storage Easel</td>\n",
       "      <td>62.09 - $69.99</td>\n",
       "      <td>https://www.kohls.com/product/prd-4584636/delt...</td>\n",
       "      <td>This two-sided easel features a chalkboard sid...</td>\n",
       "    </tr>\n",
       "    <tr>\n",
       "      <th>2</th>\n",
       "      <td>Melissa &amp; Doug Diner Collection</td>\n",
       "      <td>18.99 - $248.99</td>\n",
       "      <td>https://www.kohls.com/product/prd-c2228951/mel...</td>\n",
       "      <td>No info</td>\n",
       "    </tr>\n",
       "    <tr>\n",
       "      <th>3</th>\n",
       "      <td>Little Tikes 4-in-1 Sports Edition Trike</td>\n",
       "      <td>112.99 - $133.99</td>\n",
       "      <td>https://www.kohls.com/product/prd-1882301/litt...</td>\n",
       "      <td>Designed with both parent and child in mind, t...</td>\n",
       "    </tr>\n",
       "    <tr>\n",
       "      <th>4</th>\n",
       "      <td>Melissa &amp; Doug Let's Play House Collection</td>\n",
       "      <td>16.99 - $215.99</td>\n",
       "      <td>https://www.kohls.com/product/prd-c1441954/mel...</td>\n",
       "      <td>No info</td>\n",
       "    </tr>\n",
       "  </tbody>\n",
       "</table>\n",
       "</div>"
      ],
      "text/plain": [
       "                                               name             price  \\\n",
       "0                         KidKraft Teepee Play Tent   99.99 - $112.99   \n",
       "1  Delta Children MySize Double-Sided Storage Easel    62.09 - $69.99   \n",
       "2                   Melissa & Doug Diner Collection   18.99 - $248.99   \n",
       "3          Little Tikes 4-in-1 Sports Edition Trike  112.99 - $133.99   \n",
       "4        Melissa & Doug Let's Play House Collection   16.99 - $215.99   \n",
       "\n",
       "                                                 url  \\\n",
       "0  https://www.kohls.com/product/prd-2034244/kidk...   \n",
       "1  https://www.kohls.com/product/prd-4584636/delt...   \n",
       "2  https://www.kohls.com/product/prd-c2228951/mel...   \n",
       "3  https://www.kohls.com/product/prd-1882301/litt...   \n",
       "4  https://www.kohls.com/product/prd-c1441954/mel...   \n",
       "\n",
       "                                         description  \n",
       "0  Featuring sturdy bamboo and soft cotton canvas...  \n",
       "1  This two-sided easel features a chalkboard sid...  \n",
       "2                                            No info  \n",
       "3  Designed with both parent and child in mind, t...  \n",
       "4                                            No info  "
      ]
     },
     "execution_count": 22,
     "metadata": {},
     "output_type": "execute_result"
    }
   ],
   "source": [
    "query = \"\"\"\n",
    "SELECT\n",
    "    *\n",
    "FROM\n",
    "    boystoys\n",
    "WHERE\n",
    "    CAST(price AS FLOAT) IS NOT price;\n",
    "\"\"\"\n",
    "check_df = pd.read_sql(query, con)\n",
    "check_df"
   ]
  },
  {
   "cell_type": "code",
   "execution_count": 23,
   "id": "292cbcbd",
   "metadata": {},
   "outputs": [
    {
     "data": {
      "text/plain": [
       "5"
      ]
     },
     "execution_count": 23,
     "metadata": {},
     "output_type": "execute_result"
    }
   ],
   "source": [
    "len(check_df)"
   ]
  },
  {
   "cell_type": "markdown",
   "id": "7dafe145",
   "metadata": {},
   "source": [
    "The same five rows appear in this table. Let's modify it to cast all entries as numeric.\n",
    "\n",
    "### Making modifications\n",
    "\n",
    "All the non-numeric values of price are a range represented by values separated by an \"-\". So, we can use the `SUBSTR` function along with `INSTR` to get the lowest value in the range (a bit arbitrary because I want to see the lowest possible price for each toy, but a similar idea could be implemented for the highest).\n",
    "\n",
    "The goal is to find, in each of these incorrect inputs, the substring starting from the first character and up to the index of the \"-\" character (minus 2: to consider it and the white space just before it).\n",
    "\n",
    "In SQLite, the function `SUBSTR` takes 3 arguments:\n",
    "\n",
    "`SUBSTR(X,Y,Z)`\n",
    "* The x field represents the string input to be sliced, \n",
    "* the y and z field represents the starting point and ending point respectively using an index.\n",
    "\n",
    "The `INSTR` function takes 2 arguments:\n",
    "\n",
    "`INSTR(string, substring)`\n",
    "* string is the source string that INSTR function searches for the substring\n",
    "\n",
    "* substring is the substring that is used to search.\n",
    "\n",
    "Combining these two we can filter the substring starting at index 1 and going up to the index where the \"-\" is (minus 2)."
   ]
  },
  {
   "cell_type": "code",
   "execution_count": 24,
   "id": "eabce31d",
   "metadata": {},
   "outputs": [
    {
     "data": {
      "text/html": [
       "<div>\n",
       "<style scoped>\n",
       "    .dataframe tbody tr th:only-of-type {\n",
       "        vertical-align: middle;\n",
       "    }\n",
       "\n",
       "    .dataframe tbody tr th {\n",
       "        vertical-align: top;\n",
       "    }\n",
       "\n",
       "    .dataframe thead th {\n",
       "        text-align: right;\n",
       "    }\n",
       "</style>\n",
       "<table border=\"1\" class=\"dataframe\">\n",
       "  <thead>\n",
       "    <tr style=\"text-align: right;\">\n",
       "      <th></th>\n",
       "      <th>price</th>\n",
       "      <th>correct_price</th>\n",
       "    </tr>\n",
       "  </thead>\n",
       "  <tbody>\n",
       "    <tr>\n",
       "      <th>0</th>\n",
       "      <td>99.99 - $112.99</td>\n",
       "      <td>99.99</td>\n",
       "    </tr>\n",
       "    <tr>\n",
       "      <th>1</th>\n",
       "      <td>62.09 - $69.99</td>\n",
       "      <td>62.09</td>\n",
       "    </tr>\n",
       "    <tr>\n",
       "      <th>2</th>\n",
       "      <td>18.99 - $248.99</td>\n",
       "      <td>18.99</td>\n",
       "    </tr>\n",
       "    <tr>\n",
       "      <th>3</th>\n",
       "      <td>112.99 - $133.99</td>\n",
       "      <td>112.99</td>\n",
       "    </tr>\n",
       "    <tr>\n",
       "      <th>4</th>\n",
       "      <td>16.99 - $215.99</td>\n",
       "      <td>16.99</td>\n",
       "    </tr>\n",
       "  </tbody>\n",
       "</table>\n",
       "</div>"
      ],
      "text/plain": [
       "              price correct_price\n",
       "0   99.99 - $112.99         99.99\n",
       "1    62.09 - $69.99         62.09\n",
       "2   18.99 - $248.99         18.99\n",
       "3  112.99 - $133.99        112.99\n",
       "4   16.99 - $215.99         16.99"
      ]
     },
     "execution_count": 24,
     "metadata": {},
     "output_type": "execute_result"
    }
   ],
   "source": [
    "query = \"\"\"\n",
    "SELECT\n",
    "    price,\n",
    "    SUBSTR(price, 1, INSTR(price, '-') - 2) AS correct_price\n",
    "FROM\n",
    "    girlstoys\n",
    "WHERE\n",
    "    CAST(price AS FLOAT) IS NOT price;\n",
    "\"\"\"\n",
    "check_df = pd.read_sql(query, con)\n",
    "check_df"
   ]
  },
  {
   "cell_type": "markdown",
   "id": "627ba3f1",
   "metadata": {},
   "source": [
    "### Updating the tables\n",
    "\n",
    "Now that we know how to make the desired modifications, we can update the `price` column in each table. We do this using a **searched CASE expression** combined with an **UPDATE**. The basic syntax of this expression is as follows:\n",
    "```sql\n",
    "CASE\n",
    "     WHEN bool_expression_1 THEN result_1\n",
    "     WHEN bool_expression_2 THEN result_2\n",
    "     [ ELSE result_else ] \n",
    "END\n",
    "```\n",
    "\n",
    "From the SQLite documentation:\n",
    "> The searched CASE expression evaluates the Boolean expressions in the sequence specified and return the corresponding result if the expression evaluates to true.\n",
    "\n",
    "Using this, we can update the `girlstoys` table first with the query bellow:"
   ]
  },
  {
   "cell_type": "code",
   "execution_count": 25,
   "id": "04e04ed7",
   "metadata": {},
   "outputs": [
    {
     "data": {
      "text/plain": [
       "<sqlite3.Cursor at 0x7fd87406f340>"
      ]
     },
     "execution_count": 25,
     "metadata": {},
     "output_type": "execute_result"
    }
   ],
   "source": [
    "update_date = \"\"\"\n",
    "UPDATE girlstoys\n",
    "    SET price =\n",
    "        CASE\n",
    "        WHEN\n",
    "            CAST(price AS FLOAT) IS NOT price THEN SUBSTR(price, 1, INSTR(price, '-') - 2)\n",
    "        ELSE \n",
    "            price\n",
    "        END\n",
    "\"\"\"\n",
    "cur.execute(update_date)"
   ]
  },
  {
   "cell_type": "code",
   "execution_count": 26,
   "id": "69ac2d9b",
   "metadata": {},
   "outputs": [],
   "source": [
    "con.commit()"
   ]
  },
  {
   "cell_type": "markdown",
   "id": "b8569a9c",
   "metadata": {},
   "source": [
    "To check if it worked we can run the same query we did the first time we were checking for integrity."
   ]
  },
  {
   "cell_type": "code",
   "execution_count": 27,
   "id": "f6de92ca",
   "metadata": {},
   "outputs": [
    {
     "data": {
      "text/html": [
       "<div>\n",
       "<style scoped>\n",
       "    .dataframe tbody tr th:only-of-type {\n",
       "        vertical-align: middle;\n",
       "    }\n",
       "\n",
       "    .dataframe tbody tr th {\n",
       "        vertical-align: top;\n",
       "    }\n",
       "\n",
       "    .dataframe thead th {\n",
       "        text-align: right;\n",
       "    }\n",
       "</style>\n",
       "<table border=\"1\" class=\"dataframe\">\n",
       "  <thead>\n",
       "    <tr style=\"text-align: right;\">\n",
       "      <th></th>\n",
       "      <th>name</th>\n",
       "      <th>price</th>\n",
       "      <th>url</th>\n",
       "      <th>description</th>\n",
       "    </tr>\n",
       "  </thead>\n",
       "  <tbody>\n",
       "  </tbody>\n",
       "</table>\n",
       "</div>"
      ],
      "text/plain": [
       "Empty DataFrame\n",
       "Columns: [name, price, url, description]\n",
       "Index: []"
      ]
     },
     "execution_count": 27,
     "metadata": {},
     "output_type": "execute_result"
    }
   ],
   "source": [
    "query = \"\"\"\n",
    "SELECT\n",
    "    *\n",
    "FROM\n",
    "    girlstoys\n",
    "WHERE\n",
    "    CAST(price AS FLOAT) IS NOT price;\n",
    "\"\"\"\n",
    "check_df = pd.read_sql(query, con)\n",
    "check_df"
   ]
  },
  {
   "cell_type": "markdown",
   "id": "72f1a645",
   "metadata": {},
   "source": [
    "Great! Seems ok now. We can repeat the process for the `boystoys` table:"
   ]
  },
  {
   "cell_type": "code",
   "execution_count": 28,
   "id": "fc8825dd",
   "metadata": {},
   "outputs": [
    {
     "data": {
      "text/plain": [
       "<sqlite3.Cursor at 0x7fd87406f340>"
      ]
     },
     "execution_count": 28,
     "metadata": {},
     "output_type": "execute_result"
    }
   ],
   "source": [
    "update_date = \"\"\"\n",
    "UPDATE boystoys\n",
    "    SET price =\n",
    "        CASE\n",
    "        WHEN\n",
    "            CAST(price AS FLOAT) IS NOT price THEN SUBSTR(price, 1, INSTR(price, '-') - 2)\n",
    "        ELSE \n",
    "            price\n",
    "        END\n",
    "\"\"\"\n",
    "cur.execute(update_date)"
   ]
  },
  {
   "cell_type": "code",
   "execution_count": 29,
   "id": "ac211a0d",
   "metadata": {},
   "outputs": [],
   "source": [
    "con.commit()"
   ]
  },
  {
   "cell_type": "markdown",
   "id": "34666951",
   "metadata": {},
   "source": [
    "Our quick sanity check:"
   ]
  },
  {
   "cell_type": "code",
   "execution_count": 30,
   "id": "c15d119f",
   "metadata": {},
   "outputs": [
    {
     "data": {
      "text/html": [
       "<div>\n",
       "<style scoped>\n",
       "    .dataframe tbody tr th:only-of-type {\n",
       "        vertical-align: middle;\n",
       "    }\n",
       "\n",
       "    .dataframe tbody tr th {\n",
       "        vertical-align: top;\n",
       "    }\n",
       "\n",
       "    .dataframe thead th {\n",
       "        text-align: right;\n",
       "    }\n",
       "</style>\n",
       "<table border=\"1\" class=\"dataframe\">\n",
       "  <thead>\n",
       "    <tr style=\"text-align: right;\">\n",
       "      <th></th>\n",
       "      <th>name</th>\n",
       "      <th>price</th>\n",
       "      <th>url</th>\n",
       "      <th>description</th>\n",
       "    </tr>\n",
       "  </thead>\n",
       "  <tbody>\n",
       "  </tbody>\n",
       "</table>\n",
       "</div>"
      ],
      "text/plain": [
       "Empty DataFrame\n",
       "Columns: [name, price, url, description]\n",
       "Index: []"
      ]
     },
     "execution_count": 30,
     "metadata": {},
     "output_type": "execute_result"
    }
   ],
   "source": [
    "query = \"\"\"\n",
    "SELECT\n",
    "    *\n",
    "FROM\n",
    "    boystoys\n",
    "WHERE\n",
    "    CAST(price AS FLOAT) IS NOT price;\n",
    "\"\"\"\n",
    "check_df = pd.read_sql(query, con)\n",
    "check_df"
   ]
  },
  {
   "cell_type": "markdown",
   "id": "ee6ba58e",
   "metadata": {},
   "source": [
    "Awesome! Our `price` columns is ready to be analysed safely! We can close the connection to the database."
   ]
  },
  {
   "cell_type": "code",
   "execution_count": 31,
   "id": "be187660",
   "metadata": {},
   "outputs": [],
   "source": [
    "con.close()"
   ]
  },
  {
   "cell_type": "code",
   "execution_count": null,
   "id": "3daac95c",
   "metadata": {},
   "outputs": [],
   "source": []
  }
 ],
 "metadata": {
  "kernelspec": {
   "display_name": "Python 3 (ipykernel)",
   "language": "python",
   "name": "python3"
  },
  "language_info": {
   "codemirror_mode": {
    "name": "ipython",
    "version": 3
   },
   "file_extension": ".py",
   "mimetype": "text/x-python",
   "name": "python",
   "nbconvert_exporter": "python",
   "pygments_lexer": "ipython3",
   "version": "3.8.10"
  }
 },
 "nbformat": 4,
 "nbformat_minor": 5
}
